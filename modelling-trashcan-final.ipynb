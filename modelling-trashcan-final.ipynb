{
 "cells": [
  {
   "cell_type": "code",
   "execution_count": 1,
   "id": "2ff9b02a",
   "metadata": {
    "_cell_guid": "b1076dfc-b9ad-4769-8c92-a6c4dae69d19",
    "_uuid": "8f2839f25d086af736a60e9eeb907d3b93b6e0e5",
    "execution": {
     "iopub.execute_input": "2024-06-07T08:12:50.358813Z",
     "iopub.status.busy": "2024-06-07T08:12:50.358392Z",
     "iopub.status.idle": "2024-06-07T08:13:11.326088Z",
     "shell.execute_reply": "2024-06-07T08:13:11.325080Z"
    },
    "papermill": {
     "duration": 20.982241,
     "end_time": "2024-06-07T08:13:11.328479",
     "exception": false,
     "start_time": "2024-06-07T08:12:50.346238",
     "status": "completed"
    },
    "tags": []
   },
   "outputs": [
    {
     "name": "stderr",
     "output_type": "stream",
     "text": [
      "2024-06-07 08:12:54.168631: E external/local_xla/xla/stream_executor/cuda/cuda_dnn.cc:9261] Unable to register cuDNN factory: Attempting to register factory for plugin cuDNN when one has already been registered\n",
      "2024-06-07 08:12:54.168763: E external/local_xla/xla/stream_executor/cuda/cuda_fft.cc:607] Unable to register cuFFT factory: Attempting to register factory for plugin cuFFT when one has already been registered\n",
      "2024-06-07 08:12:54.434121: E external/local_xla/xla/stream_executor/cuda/cuda_blas.cc:1515] Unable to register cuBLAS factory: Attempting to register factory for plugin cuBLAS when one has already been registered\n"
     ]
    }
   ],
   "source": [
    "import os\n",
    "import numpy as np\n",
    "import tensorflow as tf\n",
    "from tensorflow.keras.preprocessing import image\n",
    "from tensorflow.keras.preprocessing.image import ImageDataGenerator\n",
    "from tensorflow.keras.models import Model, load_model\n",
    "from tensorflow.keras.layers import Dense, Flatten, Dropout, BatchNormalization\n",
    "from tensorflow.keras.callbacks import EarlyStopping, ReduceLROnPlateau\n",
    "from tensorflow.keras.applications.vgg16 import VGG16, preprocess_input\n",
    "\n",
    "# Ensure Eager Execution is enabled\n",
    "tf.config.run_functions_eagerly(True)"
   ]
  },
  {
   "cell_type": "code",
   "execution_count": 2,
   "id": "aed99a92",
   "metadata": {
    "execution": {
     "iopub.execute_input": "2024-06-07T08:13:11.348818Z",
     "iopub.status.busy": "2024-06-07T08:13:11.347810Z",
     "iopub.status.idle": "2024-06-07T08:13:50.063712Z",
     "shell.execute_reply": "2024-06-07T08:13:50.062694Z"
    },
    "papermill": {
     "duration": 38.728103,
     "end_time": "2024-06-07T08:13:50.066266",
     "exception": false,
     "start_time": "2024-06-07T08:13:11.338163",
     "status": "completed"
    },
    "tags": []
   },
   "outputs": [],
   "source": [
    "import os\n",
    "import shutil\n",
    "from sklearn.model_selection import train_test_split\n",
    "\n",
    "# Define the root directory\n",
    "root_dir = '/kaggle/input/capstone-final/Dataset Final'\n",
    "\n",
    "# Define the output directories\n",
    "output_train_dir = 'train'\n",
    "output_val_dir = 'val'\n",
    "output_test_dir = 'test'\n",
    "\n",
    "# Create output directories if they don't exist\n",
    "for output_dir in [output_train_dir, output_val_dir, output_test_dir]:\n",
    "    if not os.path.exists(output_dir):\n",
    "        os.makedirs(output_dir)\n",
    "\n",
    "# Create output directories if they don't exist\n",
    "for output_dir in [output_train_dir, output_val_dir, output_test_dir]:\n",
    "    if not os.path.exists(output_dir):\n",
    "        os.makedirs(output_dir)\n",
    "\n",
    "def create_train_val_test_split(root, output_train, output_val, output_test, test_size=0.1, val_size=0.1):\n",
    "    for category in os.listdir(root):\n",
    "        category_path = os.path.join(root, category)\n",
    "        if os.path.isdir(category_path):\n",
    "            for sub_category in os.listdir(category_path):\n",
    "                sub_category_path = os.path.join(category_path, sub_category)\n",
    "                if os.path.isdir(sub_category_path):\n",
    "                    files = [f for f in os.listdir(sub_category_path) if os.path.isfile(os.path.join(sub_category_path, f))]\n",
    "                    \n",
    "                    # Check if there are enough samples for splitting\n",
    "                    if len(files) >= 3:  # Minimum 3 samples required for split\n",
    "                        train_val_files, test_files = train_test_split(files, test_size=test_size, random_state=42)\n",
    "                        train_files, val_files = train_test_split(train_val_files, test_size=val_size, random_state=42)\n",
    "                        \n",
    "                        train_output_path = os.path.join(output_train, category, sub_category)\n",
    "                        val_output_path = os.path.join(output_val, category, sub_category)\n",
    "                        test_output_path = os.path.join(output_test, category, sub_category)\n",
    "                        os.makedirs(train_output_path, exist_ok=True)\n",
    "                        os.makedirs(val_output_path, exist_ok=True)\n",
    "                        os.makedirs(test_output_path, exist_ok=True)\n",
    "                        \n",
    "                        for file in train_files:\n",
    "                            shutil.copy2(os.path.join(sub_category_path, file), os.path.join(train_output_path, file))\n",
    "                        for file in val_files:\n",
    "                            shutil.copy2(os.path.join(sub_category_path, file), os.path.join(val_output_path, file))\n",
    "                        for file in test_files:\n",
    "                            shutil.copy2(os.path.join(sub_category_path, file), os.path.join(test_output_path, file))\n",
    "                    else:\n",
    "                        print(f\"Not enough samples in category {category}/{sub_category} for splitting.\")\n",
    "\n",
    "# Apply the function to create train-validation-test split\n",
    "create_train_val_test_split(root_dir, output_train_dir, output_val_dir, output_test_dir)"
   ]
  },
  {
   "cell_type": "code",
   "execution_count": 3,
   "id": "ef9d78cc",
   "metadata": {
    "execution": {
     "iopub.execute_input": "2024-06-07T08:13:50.081292Z",
     "iopub.status.busy": "2024-06-07T08:13:50.081015Z",
     "iopub.status.idle": "2024-06-07T08:13:50.085841Z",
     "shell.execute_reply": "2024-06-07T08:13:50.084986Z"
    },
    "papermill": {
     "duration": 0.014223,
     "end_time": "2024-06-07T08:13:50.087662",
     "exception": false,
     "start_time": "2024-06-07T08:13:50.073439",
     "status": "completed"
    },
    "tags": []
   },
   "outputs": [],
   "source": [
    "# Define the main categories and sub-categories\n",
    "main_category_labels = ['Anorganik', 'B3', 'Organik']\n",
    "sub_category_labels = {\n",
    "    'Anorganik': ['Kaleng', 'PET', 'Tas Plastik Belanja'],\n",
    "    'B3': ['Aerosol', 'Baterai', 'Obat Kapsul'],\n",
    "    'Organik': ['Daun', 'Kardus', 'Makanan Olahan']\n",
    "}"
   ]
  },
  {
   "cell_type": "code",
   "execution_count": 4,
   "id": "60c94352",
   "metadata": {
    "execution": {
     "iopub.execute_input": "2024-06-07T08:13:50.101827Z",
     "iopub.status.busy": "2024-06-07T08:13:50.101561Z",
     "iopub.status.idle": "2024-06-07T08:13:50.105453Z",
     "shell.execute_reply": "2024-06-07T08:13:50.104643Z"
    },
    "papermill": {
     "duration": 0.013265,
     "end_time": "2024-06-07T08:13:50.107403",
     "exception": false,
     "start_time": "2024-06-07T08:13:50.094138",
     "status": "completed"
    },
    "tags": []
   },
   "outputs": [],
   "source": [
    "# IMAGE_SIZE = (128, 128)\n",
    "# BATCH_SIZE = 32\n",
    "\n",
    "# # Create ImageDataGenerator instances with augmentation\n",
    "# train_datagen = ImageDataGenerator(\n",
    "#     rescale=1./255,\n",
    "#     validation_split=0.2,\n",
    "#     rotation_range=20,\n",
    "#     width_shift_range=0.2,\n",
    "#     height_shift_range=0.2,\n",
    "#     shear_range=0.2,\n",
    "#     zoom_range=0.2,\n",
    "#     horizontal_flip=True,\n",
    "#     fill_mode='nearest'\n",
    "# )\n",
    "# val_datagen = ImageDataGenerator(rescale=1./255)"
   ]
  },
  {
   "cell_type": "code",
   "execution_count": 5,
   "id": "7c684589",
   "metadata": {
    "execution": {
     "iopub.execute_input": "2024-06-07T08:13:50.121946Z",
     "iopub.status.busy": "2024-06-07T08:13:50.121365Z",
     "iopub.status.idle": "2024-06-07T08:13:50.136845Z",
     "shell.execute_reply": "2024-06-07T08:13:50.136187Z"
    },
    "papermill": {
     "duration": 0.024484,
     "end_time": "2024-06-07T08:13:50.138611",
     "exception": false,
     "start_time": "2024-06-07T08:13:50.114127",
     "status": "completed"
    },
    "tags": []
   },
   "outputs": [],
   "source": [
    "# Custom function to extract labels from the file path\n",
    "def extract_labels(file_path):\n",
    "    parts = file_path.split(os.path.sep)\n",
    "    main_category = parts[-3]  # Main category is the parent directory\n",
    "    sub_category = parts[-2]   # Sub-category is the sub-directory\n",
    "    return main_category, sub_category\n",
    "\n",
    "# Create a custom data generator\n",
    "class CustomImageDataGenerator(tf.keras.utils.Sequence):\n",
    "    def __init__(self, file_paths, labels, batch_size, image_size, augmentation=False, shuffle=True):\n",
    "        self.file_paths = file_paths\n",
    "        self.labels = labels\n",
    "        self.batch_size = batch_size\n",
    "        self.image_size = image_size\n",
    "        self.augmentation = augmentation\n",
    "        self.shuffle = shuffle\n",
    "        self.on_epoch_end()\n",
    "        \n",
    "        if self.augmentation:\n",
    "            self.datagen = ImageDataGenerator(\n",
    "                rescale=1./255,\n",
    "                rotation_range=20,\n",
    "                width_shift_range=0.2,\n",
    "                height_shift_range=0.2,\n",
    "                shear_range=0.2,\n",
    "                zoom_range=0.2,\n",
    "                horizontal_flip=True,\n",
    "                fill_mode='nearest'\n",
    "            )\n",
    "        else:\n",
    "            self.datagen = ImageDataGenerator(rescale=1./255)\n",
    "\n",
    "    def __len__(self):\n",
    "        return len(self.file_paths) // self.batch_size\n",
    "\n",
    "    def __getitem__(self, index):\n",
    "        batch_file_paths = self.file_paths[index * self.batch_size:(index + 1) * self.batch_size]\n",
    "        batch_labels = self.labels[index * self.batch_size:(index + 1) * self.batch_size]\n",
    "        images = [tf.keras.preprocessing.image.load_img(fp, target_size=self.image_size) for fp in batch_file_paths]\n",
    "        images = [tf.keras.preprocessing.image.img_to_array(img) for img in images]\n",
    "        images = np.array(images) / 255.0\n",
    "        \n",
    "        if self.augmentation:\n",
    "            augmented_images = []\n",
    "            for img in images:\n",
    "                augmented_img = self.datagen.random_transform(img)\n",
    "                augmented_images.append(augmented_img)\n",
    "            images = np.array(augmented_images)\n",
    "        \n",
    "        main_labels = [main_category_labels.index(lbl[0]) for lbl in batch_labels]\n",
    "        sub_labels = [sub_category_labels[lbl[0]].index(lbl[1]) for lbl in batch_labels]\n",
    "        return images, {\n",
    "            'category_output': tf.keras.utils.to_categorical(main_labels, num_classes=len(main_category_labels)),\n",
    "            'sub_category_output': tf.keras.utils.to_categorical(sub_labels, num_classes=len(sub_category_labels[batch_labels[0][0]]))\n",
    "        }\n",
    "\n",
    "    def on_epoch_end(self):\n",
    "        if self.shuffle:\n",
    "            temp = list(zip(self.file_paths, self.labels))\n",
    "            np.random.shuffle(temp)\n",
    "            self.file_paths, self.labels = zip(*temp)"
   ]
  },
  {
   "cell_type": "code",
   "execution_count": 6,
   "id": "03e31919",
   "metadata": {
    "execution": {
     "iopub.execute_input": "2024-06-07T08:13:50.152762Z",
     "iopub.status.busy": "2024-06-07T08:13:50.152497Z",
     "iopub.status.idle": "2024-06-07T08:13:50.182177Z",
     "shell.execute_reply": "2024-06-07T08:13:50.180920Z"
    },
    "papermill": {
     "duration": 0.039813,
     "end_time": "2024-06-07T08:13:50.185074",
     "exception": false,
     "start_time": "2024-06-07T08:13:50.145261",
     "status": "completed"
    },
    "tags": []
   },
   "outputs": [],
   "source": [
    "# Define directory paths \n",
    "# base_dir = '/kaggle/working'\n",
    "train_dir = '/kaggle/working/train'\n",
    "train_file_paths = [os.path.join(root, name) for root, dirs, files in os.walk(train_dir) for name in files]\n",
    "train_labels = [extract_labels(fp) for fp in train_file_paths]\n",
    "\n",
    "val_dir = '/kaggle/working/val'\n",
    "val_file_paths = [os.path.join(root, name) for root, dirs, files in os.walk(val_dir) for name in files]\n",
    "val_labels = [extract_labels(fp) for fp in val_file_paths]\n",
    "\n",
    "test_dir = '/kaggle/working/test'\n",
    "test_file_paths = [os.path.join(root, name) for root, dirs, files in os.walk(test_dir) for name in files]\n",
    "test_labels = [extract_labels(fp) for fp in test_file_paths]"
   ]
  },
  {
   "cell_type": "code",
   "execution_count": 7,
   "id": "e4e9c859",
   "metadata": {
    "execution": {
     "iopub.execute_input": "2024-06-07T08:13:50.201961Z",
     "iopub.status.busy": "2024-06-07T08:13:50.201395Z",
     "iopub.status.idle": "2024-06-07T08:13:50.208323Z",
     "shell.execute_reply": "2024-06-07T08:13:50.207553Z"
    },
    "papermill": {
     "duration": 0.016524,
     "end_time": "2024-06-07T08:13:50.210257",
     "exception": false,
     "start_time": "2024-06-07T08:13:50.193733",
     "status": "completed"
    },
    "tags": []
   },
   "outputs": [],
   "source": [
    "IMAGE_SIZE = (128, 128)\n",
    "BATCH_SIZE = 32\n",
    "\n",
    "# Create custom data generators with augmentation for the training set\n",
    "train_generator = CustomImageDataGenerator(train_file_paths, train_labels, BATCH_SIZE, IMAGE_SIZE, augmentation=True, shuffle=True)\n",
    "val_generator = CustomImageDataGenerator(val_file_paths, val_labels, BATCH_SIZE, IMAGE_SIZE, augmentation=False, shuffle=False)\n",
    "test_generator = CustomImageDataGenerator(test_file_paths, test_labels, BATCH_SIZE, IMAGE_SIZE, augmentation=False, shuffle=False)\n"
   ]
  },
  {
   "cell_type": "code",
   "execution_count": 8,
   "id": "7e7dd8dd",
   "metadata": {
    "execution": {
     "iopub.execute_input": "2024-06-07T08:13:50.224919Z",
     "iopub.status.busy": "2024-06-07T08:13:50.224649Z",
     "iopub.status.idle": "2024-06-07T08:13:50.228756Z",
     "shell.execute_reply": "2024-06-07T08:13:50.227676Z"
    },
    "papermill": {
     "duration": 0.013879,
     "end_time": "2024-06-07T08:13:50.230911",
     "exception": false,
     "start_time": "2024-06-07T08:13:50.217032",
     "status": "completed"
    },
    "tags": []
   },
   "outputs": [],
   "source": [
    "# # Create generators for training and validation data\n",
    "# train_generator = train_datagen.flow_from_directory(\n",
    "#     train_dir,\n",
    "#     target_size=IMAGE_SIZE,\n",
    "#     batch_size=BATCH_SIZE,\n",
    "#     class_mode='categorical',\n",
    "#     subset='training')"
   ]
  },
  {
   "cell_type": "code",
   "execution_count": 9,
   "id": "af7d65fa",
   "metadata": {
    "execution": {
     "iopub.execute_input": "2024-06-07T08:13:50.247937Z",
     "iopub.status.busy": "2024-06-07T08:13:50.247647Z",
     "iopub.status.idle": "2024-06-07T08:13:50.251465Z",
     "shell.execute_reply": "2024-06-07T08:13:50.250638Z"
    },
    "papermill": {
     "duration": 0.014807,
     "end_time": "2024-06-07T08:13:50.253456",
     "exception": false,
     "start_time": "2024-06-07T08:13:50.238649",
     "status": "completed"
    },
    "tags": []
   },
   "outputs": [],
   "source": [
    "# val_generator = val_datagen.flow_from_directory(\n",
    "#     '/kaggle/working/val',\n",
    "#     target_size=IMAGE_SIZE,\n",
    "#     batch_size=BATCH_SIZE,\n",
    "#     class_mode='categorical')"
   ]
  },
  {
   "cell_type": "code",
   "execution_count": 10,
   "id": "12c359a8",
   "metadata": {
    "execution": {
     "iopub.execute_input": "2024-06-07T08:13:50.270008Z",
     "iopub.status.busy": "2024-06-07T08:13:50.269237Z",
     "iopub.status.idle": "2024-06-07T08:13:54.288684Z",
     "shell.execute_reply": "2024-06-07T08:13:54.287775Z"
    },
    "papermill": {
     "duration": 4.030546,
     "end_time": "2024-06-07T08:13:54.291133",
     "exception": false,
     "start_time": "2024-06-07T08:13:50.260587",
     "status": "completed"
    },
    "tags": []
   },
   "outputs": [
    {
     "name": "stdout",
     "output_type": "stream",
     "text": [
      "Downloading data from https://storage.googleapis.com/tensorflow/keras-applications/efficientnet_v2/efficientnetv2-b3_notop.h5\n",
      "\u001b[1m52606240/52606240\u001b[0m \u001b[32m━━━━━━━━━━━━━━━━━━━━\u001b[0m\u001b[37m\u001b[0m \u001b[1m0s\u001b[0m 0us/step\n"
     ]
    }
   ],
   "source": [
    "# Load VGG16 model with pretrained weights\n",
    "# resnet_base = tf.keras.applications.ResNet50(weights='imagenet', include_top=False, input_shape=(IMAGE_SIZE[0], IMAGE_SIZE[1], 3))\n",
    "effnetb3v2_base = tf.keras.applications.EfficientNetV2B3(input_shape=(IMAGE_SIZE[0], IMAGE_SIZE[1], 3), include_top=False, weights='imagenet')\n",
    "# Freeze the layers except the last 4 layers\n",
    "# for layer in resnet_base.layers[:-4]:\n",
    "#     layer.trainable = False"
   ]
  },
  {
   "cell_type": "code",
   "execution_count": 11,
   "id": "b1707cfb",
   "metadata": {
    "execution": {
     "iopub.execute_input": "2024-06-07T08:13:54.309353Z",
     "iopub.status.busy": "2024-06-07T08:13:54.308799Z",
     "iopub.status.idle": "2024-06-07T08:13:54.376683Z",
     "shell.execute_reply": "2024-06-07T08:13:54.375938Z"
    },
    "papermill": {
     "duration": 0.079229,
     "end_time": "2024-06-07T08:13:54.378731",
     "exception": false,
     "start_time": "2024-06-07T08:13:54.299502",
     "status": "completed"
    },
    "tags": []
   },
   "outputs": [],
   "source": [
    "# Create custom layers on top of the VGG16 base\n",
    "# x = resnet_base.output\n",
    "x = effnetb3v2_base.output\n",
    "x = Flatten()(x)\n",
    "x = Dense(1024, activation='relu')(x)\n",
    "x = Dense(512, activation='relu')(x)\n",
    "# x = BatchNormalization()(x)\n",
    "x = Dropout(0.1)(x)\n",
    "x = Dense(256, activation='relu')(x)\n",
    "# x = BatchNormalization()(x)\n",
    "x = Dropout(0.1)(x)\n",
    "x = Dense(128, activation='relu')(x)\n",
    "category_output = Dense(len(main_category_labels), activation='softmax', name='category_output')(x)\n",
    "sub_category_output = Dense(len(sub_category_labels[main_category_labels[0]]), activation='softmax', name='sub_category_output')(x)"
   ]
  },
  {
   "cell_type": "code",
   "execution_count": 12,
   "id": "38f46ce8",
   "metadata": {
    "execution": {
     "iopub.execute_input": "2024-06-07T08:13:54.395803Z",
     "iopub.status.busy": "2024-06-07T08:13:54.395190Z",
     "iopub.status.idle": "2024-06-07T08:13:54.472597Z",
     "shell.execute_reply": "2024-06-07T08:13:54.471720Z"
    },
    "papermill": {
     "duration": 0.088053,
     "end_time": "2024-06-07T08:13:54.474694",
     "exception": false,
     "start_time": "2024-06-07T08:13:54.386641",
     "status": "completed"
    },
    "tags": []
   },
   "outputs": [],
   "source": [
    "# Create the final model\n",
    "model = Model(inputs=effnetb3v2_base.input, outputs=[category_output, sub_category_output])\n",
    "\n",
    "# Compile the model with appropriate metrics\n",
    "model.compile(\n",
    "    optimizer=tf.keras.optimizers.Adam(learning_rate=1e-4),\n",
    "    loss={'category_output': 'categorical_crossentropy', 'sub_category_output': 'categorical_crossentropy'},\n",
    "    metrics={'category_output': 'accuracy', 'sub_category_output': 'accuracy'}\n",
    ")\n",
    "# model.compile(optimizer='adam', loss='categorical_crossentropy', metrics=['accuracy'])"
   ]
  },
  {
   "cell_type": "code",
   "execution_count": 13,
   "id": "e4a9de1b",
   "metadata": {
    "execution": {
     "iopub.execute_input": "2024-06-07T08:13:54.490556Z",
     "iopub.status.busy": "2024-06-07T08:13:54.490250Z",
     "iopub.status.idle": "2024-06-07T08:13:54.494703Z",
     "shell.execute_reply": "2024-06-07T08:13:54.493844Z"
    },
    "papermill": {
     "duration": 0.014292,
     "end_time": "2024-06-07T08:13:54.496475",
     "exception": false,
     "start_time": "2024-06-07T08:13:54.482183",
     "status": "completed"
    },
    "tags": []
   },
   "outputs": [],
   "source": [
    "# Implement early stopping and learning rate reduction\n",
    "early_stopping = EarlyStopping(monitor='val_loss', patience=5, restore_best_weights=True)\n",
    "reduce_lr = ReduceLROnPlateau(monitor='val_loss', factor=0.2, patience=3, min_lr=1e-6)\n"
   ]
  },
  {
   "cell_type": "code",
   "execution_count": 14,
   "id": "7d544997",
   "metadata": {
    "execution": {
     "iopub.execute_input": "2024-06-07T08:13:54.511992Z",
     "iopub.status.busy": "2024-06-07T08:13:54.511724Z",
     "iopub.status.idle": "2024-06-07T10:15:16.340294Z",
     "shell.execute_reply": "2024-06-07T10:15:16.339510Z"
    },
    "papermill": {
     "duration": 7281.838894,
     "end_time": "2024-06-07T10:15:16.342596",
     "exception": false,
     "start_time": "2024-06-07T08:13:54.503702",
     "status": "completed"
    },
    "tags": []
   },
   "outputs": [
    {
     "name": "stdout",
     "output_type": "stream",
     "text": [
      "Epoch 1/100\n"
     ]
    },
    {
     "name": "stderr",
     "output_type": "stream",
     "text": [
      "/opt/conda/lib/python3.10/site-packages/tensorflow/python/data/ops/structured_function.py:258: UserWarning: Even though the `tf.config.experimental_run_functions_eagerly` option is set, this option does not apply to tf.data functions. To force eager execution of tf.data functions, please use `tf.data.experimental.enable_debug_mode()`.\n",
      "  warnings.warn(\n",
      "/opt/conda/lib/python3.10/site-packages/keras/src/trainers/data_adapters/py_dataset_adapter.py:120: UserWarning: Your `PyDataset` class should call `super().__init__(**kwargs)` in its constructor. `**kwargs` can include `workers`, `use_multiprocessing`, `max_queue_size`. Do not pass these arguments to `fit()`, as they will be ignored.\n",
      "  self._warn_if_super_not_called()\n"
     ]
    },
    {
     "name": "stdout",
     "output_type": "stream",
     "text": [
      "\u001b[1m 47/114\u001b[0m \u001b[32m━━━━━━━━\u001b[0m\u001b[37m━━━━━━━━━━━━\u001b[0m \u001b[1m3:14\u001b[0m 3s/step - category_output_accuracy: 0.5002 - loss: 2.0156 - sub_category_output_accuracy: 0.4599"
     ]
    },
    {
     "name": "stderr",
     "output_type": "stream",
     "text": [
      "/opt/conda/lib/python3.10/site-packages/PIL/Image.py:992: UserWarning: Palette images with Transparency expressed in bytes should be converted to RGBA images\n",
      "  warnings.warn(\n"
     ]
    },
    {
     "name": "stdout",
     "output_type": "stream",
     "text": [
      "\u001b[1m114/114\u001b[0m \u001b[32m━━━━━━━━━━━━━━━━━━━━\u001b[0m\u001b[37m\u001b[0m \u001b[1m350s\u001b[0m 3s/step - category_output_accuracy: 0.5918 - loss: 1.7850 - sub_category_output_accuracy: 0.5358 - val_category_output_accuracy: 0.7995 - val_loss: 0.9931 - val_sub_category_output_accuracy: 0.7839 - learning_rate: 1.0000e-04\n",
      "Epoch 2/100\n",
      "\u001b[1m114/114\u001b[0m \u001b[32m━━━━━━━━━━━━━━━━━━━━\u001b[0m\u001b[37m\u001b[0m \u001b[1m341s\u001b[0m 3s/step - category_output_accuracy: 0.8353 - loss: 0.9280 - sub_category_output_accuracy: 0.7937 - val_category_output_accuracy: 0.8307 - val_loss: 0.8132 - val_sub_category_output_accuracy: 0.8125 - learning_rate: 1.0000e-04\n",
      "Epoch 3/100\n",
      "\u001b[1m114/114\u001b[0m \u001b[32m━━━━━━━━━━━━━━━━━━━━\u001b[0m\u001b[37m\u001b[0m \u001b[1m340s\u001b[0m 3s/step - category_output_accuracy: 0.8797 - loss: 0.6708 - sub_category_output_accuracy: 0.8611 - val_category_output_accuracy: 0.8932 - val_loss: 0.5973 - val_sub_category_output_accuracy: 0.8750 - learning_rate: 1.0000e-04\n",
      "Epoch 4/100\n",
      "\u001b[1m114/114\u001b[0m \u001b[32m━━━━━━━━━━━━━━━━━━━━\u001b[0m\u001b[37m\u001b[0m \u001b[1m341s\u001b[0m 3s/step - category_output_accuracy: 0.9032 - loss: 0.5234 - sub_category_output_accuracy: 0.9033 - val_category_output_accuracy: 0.8594 - val_loss: 0.7528 - val_sub_category_output_accuracy: 0.8594 - learning_rate: 1.0000e-04\n",
      "Epoch 5/100\n",
      "\u001b[1m114/114\u001b[0m \u001b[32m━━━━━━━━━━━━━━━━━━━━\u001b[0m\u001b[37m\u001b[0m \u001b[1m384s\u001b[0m 3s/step - category_output_accuracy: 0.9235 - loss: 0.4063 - sub_category_output_accuracy: 0.9203 - val_category_output_accuracy: 0.8984 - val_loss: 0.5573 - val_sub_category_output_accuracy: 0.8802 - learning_rate: 1.0000e-04\n",
      "Epoch 6/100\n",
      "\u001b[1m114/114\u001b[0m \u001b[32m━━━━━━━━━━━━━━━━━━━━\u001b[0m\u001b[37m\u001b[0m \u001b[1m342s\u001b[0m 3s/step - category_output_accuracy: 0.9338 - loss: 0.3415 - sub_category_output_accuracy: 0.9407 - val_category_output_accuracy: 0.8828 - val_loss: 0.6952 - val_sub_category_output_accuracy: 0.8516 - learning_rate: 1.0000e-04\n",
      "Epoch 7/100\n",
      "\u001b[1m114/114\u001b[0m \u001b[32m━━━━━━━━━━━━━━━━━━━━\u001b[0m\u001b[37m\u001b[0m \u001b[1m343s\u001b[0m 3s/step - category_output_accuracy: 0.9502 - loss: 0.2836 - sub_category_output_accuracy: 0.9483 - val_category_output_accuracy: 0.8932 - val_loss: 0.6031 - val_sub_category_output_accuracy: 0.9141 - learning_rate: 1.0000e-04\n",
      "Epoch 8/100\n",
      "\u001b[1m114/114\u001b[0m \u001b[32m━━━━━━━━━━━━━━━━━━━━\u001b[0m\u001b[37m\u001b[0m \u001b[1m341s\u001b[0m 3s/step - category_output_accuracy: 0.9569 - loss: 0.2752 - sub_category_output_accuracy: 0.9381 - val_category_output_accuracy: 0.9193 - val_loss: 0.4683 - val_sub_category_output_accuracy: 0.9193 - learning_rate: 1.0000e-04\n",
      "Epoch 9/100\n",
      "\u001b[1m114/114\u001b[0m \u001b[32m━━━━━━━━━━━━━━━━━━━━\u001b[0m\u001b[37m\u001b[0m \u001b[1m341s\u001b[0m 3s/step - category_output_accuracy: 0.9567 - loss: 0.2354 - sub_category_output_accuracy: 0.9577 - val_category_output_accuracy: 0.8672 - val_loss: 0.7081 - val_sub_category_output_accuracy: 0.8672 - learning_rate: 1.0000e-04\n",
      "Epoch 10/100\n",
      "\u001b[1m114/114\u001b[0m \u001b[32m━━━━━━━━━━━━━━━━━━━━\u001b[0m\u001b[37m\u001b[0m \u001b[1m342s\u001b[0m 3s/step - category_output_accuracy: 0.9664 - loss: 0.2164 - sub_category_output_accuracy: 0.9564 - val_category_output_accuracy: 0.8568 - val_loss: 0.8370 - val_sub_category_output_accuracy: 0.8490 - learning_rate: 1.0000e-04\n",
      "Epoch 11/100\n",
      "\u001b[1m114/114\u001b[0m \u001b[32m━━━━━━━━━━━━━━━━━━━━\u001b[0m\u001b[37m\u001b[0m \u001b[1m342s\u001b[0m 3s/step - category_output_accuracy: 0.9681 - loss: 0.1805 - sub_category_output_accuracy: 0.9678 - val_category_output_accuracy: 0.9089 - val_loss: 0.6359 - val_sub_category_output_accuracy: 0.8958 - learning_rate: 1.0000e-04\n",
      "Epoch 12/100\n",
      "\u001b[1m114/114\u001b[0m \u001b[32m━━━━━━━━━━━━━━━━━━━━\u001b[0m\u001b[37m\u001b[0m \u001b[1m342s\u001b[0m 3s/step - category_output_accuracy: 0.9675 - loss: 0.1599 - sub_category_output_accuracy: 0.9709 - val_category_output_accuracy: 0.9427 - val_loss: 0.4017 - val_sub_category_output_accuracy: 0.9479 - learning_rate: 2.0000e-05\n",
      "Epoch 13/100\n",
      "\u001b[1m114/114\u001b[0m \u001b[32m━━━━━━━━━━━━━━━━━━━━\u001b[0m\u001b[37m\u001b[0m \u001b[1m343s\u001b[0m 3s/step - category_output_accuracy: 0.9717 - loss: 0.1305 - sub_category_output_accuracy: 0.9773 - val_category_output_accuracy: 0.9401 - val_loss: 0.3373 - val_sub_category_output_accuracy: 0.9531 - learning_rate: 2.0000e-05\n",
      "Epoch 14/100\n",
      "\u001b[1m114/114\u001b[0m \u001b[32m━━━━━━━━━━━━━━━━━━━━\u001b[0m\u001b[37m\u001b[0m \u001b[1m344s\u001b[0m 3s/step - category_output_accuracy: 0.9782 - loss: 0.1241 - sub_category_output_accuracy: 0.9789 - val_category_output_accuracy: 0.9479 - val_loss: 0.3608 - val_sub_category_output_accuracy: 0.9505 - learning_rate: 2.0000e-05\n",
      "Epoch 15/100\n",
      "\u001b[1m114/114\u001b[0m \u001b[32m━━━━━━━━━━━━━━━━━━━━\u001b[0m\u001b[37m\u001b[0m \u001b[1m343s\u001b[0m 3s/step - category_output_accuracy: 0.9775 - loss: 0.1114 - sub_category_output_accuracy: 0.9823 - val_category_output_accuracy: 0.9453 - val_loss: 0.3222 - val_sub_category_output_accuracy: 0.9583 - learning_rate: 2.0000e-05\n",
      "Epoch 16/100\n",
      "\u001b[1m114/114\u001b[0m \u001b[32m━━━━━━━━━━━━━━━━━━━━\u001b[0m\u001b[37m\u001b[0m \u001b[1m342s\u001b[0m 3s/step - category_output_accuracy: 0.9763 - loss: 0.1349 - sub_category_output_accuracy: 0.9727 - val_category_output_accuracy: 0.9453 - val_loss: 0.3129 - val_sub_category_output_accuracy: 0.9583 - learning_rate: 2.0000e-05\n",
      "Epoch 17/100\n",
      "\u001b[1m114/114\u001b[0m \u001b[32m━━━━━━━━━━━━━━━━━━━━\u001b[0m\u001b[37m\u001b[0m \u001b[1m344s\u001b[0m 3s/step - category_output_accuracy: 0.9777 - loss: 0.1166 - sub_category_output_accuracy: 0.9804 - val_category_output_accuracy: 0.9375 - val_loss: 0.4043 - val_sub_category_output_accuracy: 0.9427 - learning_rate: 2.0000e-05\n",
      "Epoch 18/100\n",
      "\u001b[1m114/114\u001b[0m \u001b[32m━━━━━━━━━━━━━━━━━━━━\u001b[0m\u001b[37m\u001b[0m \u001b[1m344s\u001b[0m 3s/step - category_output_accuracy: 0.9809 - loss: 0.0908 - sub_category_output_accuracy: 0.9862 - val_category_output_accuracy: 0.9479 - val_loss: 0.3676 - val_sub_category_output_accuracy: 0.9531 - learning_rate: 2.0000e-05\n",
      "Epoch 19/100\n",
      "\u001b[1m114/114\u001b[0m \u001b[32m━━━━━━━━━━━━━━━━━━━━\u001b[0m\u001b[37m\u001b[0m \u001b[1m381s\u001b[0m 3s/step - category_output_accuracy: 0.9792 - loss: 0.0960 - sub_category_output_accuracy: 0.9820 - val_category_output_accuracy: 0.9505 - val_loss: 0.3627 - val_sub_category_output_accuracy: 0.9557 - learning_rate: 2.0000e-05\n",
      "Epoch 20/100\n",
      "\u001b[1m114/114\u001b[0m \u001b[32m━━━━━━━━━━━━━━━━━━━━\u001b[0m\u001b[37m\u001b[0m \u001b[1m346s\u001b[0m 3s/step - category_output_accuracy: 0.9837 - loss: 0.0867 - sub_category_output_accuracy: 0.9832 - val_category_output_accuracy: 0.9479 - val_loss: 0.3294 - val_sub_category_output_accuracy: 0.9609 - learning_rate: 4.0000e-06\n",
      "Epoch 21/100\n",
      "\u001b[1m114/114\u001b[0m \u001b[32m━━━━━━━━━━━━━━━━━━━━\u001b[0m\u001b[37m\u001b[0m \u001b[1m345s\u001b[0m 3s/step - category_output_accuracy: 0.9825 - loss: 0.0944 - sub_category_output_accuracy: 0.9817 - val_category_output_accuracy: 0.9531 - val_loss: 0.3238 - val_sub_category_output_accuracy: 0.9583 - learning_rate: 4.0000e-06\n"
     ]
    }
   ],
   "source": [
    "# Train the model\n",
    "history = model.fit(\n",
    "    train_generator,\n",
    "    validation_data=val_generator,\n",
    "    epochs=100,\n",
    "    callbacks=[reduce_lr, early_stopping]\n",
    ")\n",
    "\n",
    "# Save the model\n",
    "# model.save('trash_classification_vgg_model.h5')"
   ]
  },
  {
   "cell_type": "code",
   "execution_count": 15,
   "id": "9647d582",
   "metadata": {
    "execution": {
     "iopub.execute_input": "2024-06-07T10:15:16.766520Z",
     "iopub.status.busy": "2024-06-07T10:15:16.766162Z",
     "iopub.status.idle": "2024-06-07T10:15:24.209904Z",
     "shell.execute_reply": "2024-06-07T10:15:24.209013Z"
    },
    "papermill": {
     "duration": 7.662685,
     "end_time": "2024-06-07T10:15:24.211824",
     "exception": false,
     "start_time": "2024-06-07T10:15:16.549139",
     "status": "completed"
    },
    "tags": []
   },
   "outputs": [
    {
     "name": "stdout",
     "output_type": "stream",
     "text": [
      "\u001b[1m14/14\u001b[0m \u001b[32m━━━━━━━━━━━━━━━━━━━━\u001b[0m\u001b[37m\u001b[0m \u001b[1m7s\u001b[0m 505ms/step - category_output_accuracy: 0.9292 - loss: 0.4647 - sub_category_output_accuracy: 0.9455\n"
     ]
    },
    {
     "data": {
      "text/plain": [
       "[0.32574263215065, 0.953125, 0.9575892686843872]"
      ]
     },
     "execution_count": 15,
     "metadata": {},
     "output_type": "execute_result"
    }
   ],
   "source": [
    "# # Evaluate the model on the test set\n",
    "# test_generator = val_datagen.flow_from_directory(\n",
    "#     test_dir,\n",
    "#     target_size=IMAGE_SIZE,\n",
    "#     batch_size=BATCH_SIZE,\n",
    "#     class_mode='categorical'\n",
    "# )\n",
    "\n",
    "model.evaluate(test_generator)\n",
    "# Evaluate the model on the test dataset\n",
    "# test_main_category_loss, test_sub_category_loss, test_main_category_acc, test_sub_category_acc = model.evaluate(test_generator)\n",
    "\n",
    "# print(f'Test Loss: {test_loss}')\n",
    "# print(f'Test Main Category Loss: {test_main_category_loss}')\n",
    "# print(f'Test Sub Category Loss: {test_sub_category_loss}')\n",
    "# print(f'Test Main Category Accuracy: {test_main_category_acc}')\n",
    "# print(f'Test Sub Category Accuracy: {test_sub_category_acc}')"
   ]
  },
  {
   "cell_type": "code",
   "execution_count": 16,
   "id": "72486a33",
   "metadata": {
    "execution": {
     "iopub.execute_input": "2024-06-07T10:15:24.637239Z",
     "iopub.status.busy": "2024-06-07T10:15:24.636885Z",
     "iopub.status.idle": "2024-06-07T10:15:25.736409Z",
     "shell.execute_reply": "2024-06-07T10:15:25.735536Z"
    },
    "papermill": {
     "duration": 1.314663,
     "end_time": "2024-06-07T10:15:25.738388",
     "exception": false,
     "start_time": "2024-06-07T10:15:24.423725",
     "status": "completed"
    },
    "tags": []
   },
   "outputs": [
    {
     "name": "stdout",
     "output_type": "stream",
     "text": [
      "\u001b[1m1/1\u001b[0m \u001b[32m━━━━━━━━━━━━━━━━━━━━\u001b[0m\u001b[37m\u001b[0m \u001b[1m1s\u001b[0m 1s/step\n",
      "Predicted Main Category: Organik\n",
      "Predicted Sub Category: Makanan Olahan\n"
     ]
    }
   ],
   "source": [
    "from tensorflow.keras.preprocessing.image import ImageDataGenerator, load_img, img_to_array\n",
    "\n",
    "def predict_image(image_path):\n",
    "    image = load_img(image_path, target_size=IMAGE_SIZE)\n",
    "    image_array = img_to_array(image) / 255.0\n",
    "    image_array = np.expand_dims(image_array, axis=0)  # Expand dimensions to match the model input shape\n",
    "\n",
    "    predictions = model.predict(image_array)\n",
    "    main_category_pred = main_category_labels[np.argmax(predictions[0])]\n",
    "    sub_category_pred = sub_category_labels[main_category_pred][np.argmax(predictions[1])]\n",
    "\n",
    "    print(f\"Predicted Main Category: {main_category_pred}\")\n",
    "    print(f\"Predicted Sub Category: {sub_category_pred}\")\n",
    "\n",
    "# Example usage of the predict_image function\n",
    "example_image_path = '/kaggle/input/test-trashcan/WhatsApp Image 2024-06-07 at 3.00.53 PM.jpeg'\n",
    "predict_image(example_image_path)"
   ]
  },
  {
   "cell_type": "code",
   "execution_count": 17,
   "id": "eb8c8c44",
   "metadata": {
    "execution": {
     "iopub.execute_input": "2024-06-07T10:15:26.166919Z",
     "iopub.status.busy": "2024-06-07T10:15:26.166601Z",
     "iopub.status.idle": "2024-06-07T10:15:28.006938Z",
     "shell.execute_reply": "2024-06-07T10:15:28.006163Z"
    },
    "papermill": {
     "duration": 2.056098,
     "end_time": "2024-06-07T10:15:28.009306",
     "exception": false,
     "start_time": "2024-06-07T10:15:25.953208",
     "status": "completed"
    },
    "tags": []
   },
   "outputs": [],
   "source": [
    "model.save('effnetb3v2_waste_classification.h5')"
   ]
  },
  {
   "cell_type": "code",
   "execution_count": 18,
   "id": "830a5395",
   "metadata": {
    "execution": {
     "iopub.execute_input": "2024-06-07T10:15:28.433283Z",
     "iopub.status.busy": "2024-06-07T10:15:28.432672Z",
     "iopub.status.idle": "2024-06-07T10:15:30.149772Z",
     "shell.execute_reply": "2024-06-07T10:15:30.148886Z"
    },
    "papermill": {
     "duration": 1.927051,
     "end_time": "2024-06-07T10:15:30.152096",
     "exception": false,
     "start_time": "2024-06-07T10:15:28.225045",
     "status": "completed"
    },
    "tags": []
   },
   "outputs": [],
   "source": [
    "model.save_weights('effnetb3v2_waste_classification.weights.h5')"
   ]
  },
  {
   "cell_type": "code",
   "execution_count": 19,
   "id": "14543f9d",
   "metadata": {
    "execution": {
     "iopub.execute_input": "2024-06-07T10:15:30.600956Z",
     "iopub.status.busy": "2024-06-07T10:15:30.600216Z",
     "iopub.status.idle": "2024-06-07T10:15:30.605451Z",
     "shell.execute_reply": "2024-06-07T10:15:30.604615Z"
    },
    "papermill": {
     "duration": 0.215459,
     "end_time": "2024-06-07T10:15:30.607358",
     "exception": false,
     "start_time": "2024-06-07T10:15:30.391899",
     "status": "completed"
    },
    "scrolled": true,
    "tags": []
   },
   "outputs": [],
   "source": [
    "# # Function to predict and print results\n",
    "# def predict_and_print_results(model, file_paths, labels):\n",
    "#     true_labels_main = []\n",
    "#     true_labels_sub = []\n",
    "#     predictions_main = []\n",
    "#     predictions_sub = []\n",
    "\n",
    "#     for i, file_path in enumerate(file_paths):\n",
    "#         img = load_img(file_path, target_size=IMAGE_SIZE)\n",
    "#         img_array = img_to_array(img) / 255.0\n",
    "#         img_array = np.expand_dims(img_array, axis=0)\n",
    "\n",
    "#         prediction = model.predict(img_array)\n",
    "#         predicted_main = np.argmax(prediction[0], axis=1)[0]\n",
    "#         predicted_sub = np.argmax(prediction[1], axis=1)[0]\n",
    "\n",
    "#         true_main_category = main_category_labels.index(labels[i][0])\n",
    "#         true_sub_category = sub_category_labels_flat.index(labels[i][1])\n",
    "\n",
    "#         true_labels_main.append(true_main_category)\n",
    "#         true_labels_sub.append(true_sub_category)\n",
    "#         predictions_main.append(predicted_main)\n",
    "#         predictions_sub.append(predicted_sub)\n",
    "\n",
    "#         print(f\"File: {file_path}\")\n",
    "#         print(f\"  True Main Category: {main_category_labels[true_main_category]}\")\n",
    "#         print(f\"  Predicted Main Category: {main_category_labels[predicted_main]}\")\n",
    "#         print(f\"  True Sub Category: {sub_category_labels_flat[true_sub_category]}\")\n",
    "#         print(f\"  Predicted Sub Category: {sub_category_labels_flat[predicted_sub]}\")\n",
    "#         print()\n",
    "\n",
    "#     return np.array(true_labels_main), np.array(true_labels_sub), np.array(predictions_main), np.array(predictions_sub)\n",
    "\n",
    "# # Get true labels, predictions, and filenames\n",
    "# true_labels_main, true_labels_sub, predictions_main, predictions_sub = predict_and_print_results(model, test_file_paths, test_labels)"
   ]
  },
  {
   "cell_type": "code",
   "execution_count": 20,
   "id": "786d1585",
   "metadata": {
    "execution": {
     "iopub.execute_input": "2024-06-07T10:15:31.047094Z",
     "iopub.status.busy": "2024-06-07T10:15:31.046742Z",
     "iopub.status.idle": "2024-06-07T10:15:31.053319Z",
     "shell.execute_reply": "2024-06-07T10:15:31.052294Z"
    },
    "papermill": {
     "duration": 0.236099,
     "end_time": "2024-06-07T10:15:31.055256",
     "exception": false,
     "start_time": "2024-06-07T10:15:30.819157",
     "status": "completed"
    },
    "tags": []
   },
   "outputs": [],
   "source": [
    "# import numpy as np\n",
    "# from sklearn.metrics import classification_report, confusion_matrix\n",
    "# import matplotlib.pyplot as plt\n",
    "# import seaborn as sns\n",
    "\n",
    "# # Flatten the sub-category labels dictionary\n",
    "# sub_category_labels_flat = [label for sublist in sub_category_labels.values() for label in sublist]\n",
    "\n",
    "# # Function to get true labels and predictions\n",
    "# def get_labels_and_predictions(generator, model):\n",
    "#     true_labels_main = []\n",
    "#     true_labels_sub = []\n",
    "#     predictions_main = []\n",
    "#     predictions_sub = []\n",
    "\n",
    "#     for batch_images, batch_labels in generator:\n",
    "#         true_labels_main.extend(np.argmax(batch_labels['category_output'], axis=1))\n",
    "#         true_labels_sub.extend(np.argmax(batch_labels['sub_category_output'], axis=1))\n",
    "        \n",
    "#         batch_predictions = model.predict(batch_images)\n",
    "#         predictions_main.extend(np.argmax(batch_predictions[0], axis=1))\n",
    "#         predictions_sub.extend(np.argmax(batch_predictions[1], axis=1))\n",
    "\n",
    "#     return np.array(true_labels_main), np.array(true_labels_sub), np.array(predictions_main), np.array(predictions_sub)\n",
    "\n",
    "# # Get true labels and predictions\n",
    "# true_labels_main, true_labels_sub, predictions_main, predictions_sub = get_labels_and_predictions(test_generator, model)\n",
    "\n",
    "# # Classification report for main category\n",
    "# print(\"Classification Report for Main Category:\")\n",
    "# print(classification_report(true_labels_main, predictions_main, target_names=main_category_labels))\n",
    "\n",
    "# # Ensure the labels parameter includes all possible labels\n",
    "# all_sub_labels = list(range(len(sub_category_labels_flat)))\n",
    "\n",
    "# # Classification report for sub-category\n",
    "# print(\"Classification Report for Sub Category:\")\n",
    "# print(classification_report(true_labels_sub, predictions_sub, labels=all_sub_labels, target_names=sub_category_labels_flat))\n",
    "\n",
    "# # Confusion matrix for main category\n",
    "# conf_matrix_main = confusion_matrix(true_labels_main, predictions_main)\n",
    "# plt.figure(figsize=(10, 7))\n",
    "# sns.heatmap(conf_matrix_main, annot=True, fmt='d', cmap='Blues', xticklabels=main_category_labels, yticklabels=main_category_labels)\n",
    "# plt.title('Confusion Matrix for Main Category')\n",
    "# plt.xlabel('Predicted')\n",
    "# plt.ylabel('True')\n",
    "# plt.show()\n",
    "\n",
    "# # Confusion matrix for sub-category\n",
    "# conf_matrix_sub = confusion_matrix(true_labels_sub, predictions_sub, labels=all_sub_labels)\n",
    "# plt.figure(figsize=(15, 10))\n",
    "# sns.heatmap(conf_matrix_sub, annot=True, fmt='d', cmap='Blues', xticklabels=sub_category_labels_flat, yticklabels=sub_category_labels_flat)\n",
    "# plt.title('Confusion Matrix for Sub Category')\n",
    "# plt.xlabel('Predicted')\n",
    "# plt.ylabel('True')\n",
    "# plt.show()"
   ]
  },
  {
   "cell_type": "code",
   "execution_count": 21,
   "id": "52f74844",
   "metadata": {
    "execution": {
     "iopub.execute_input": "2024-06-07T10:15:31.472796Z",
     "iopub.status.busy": "2024-06-07T10:15:31.472415Z",
     "iopub.status.idle": "2024-06-07T10:15:31.476394Z",
     "shell.execute_reply": "2024-06-07T10:15:31.475569Z"
    },
    "papermill": {
     "duration": 0.216368,
     "end_time": "2024-06-07T10:15:31.478427",
     "exception": false,
     "start_time": "2024-06-07T10:15:31.262059",
     "status": "completed"
    },
    "tags": []
   },
   "outputs": [],
   "source": [
    "# test_labels"
   ]
  },
  {
   "cell_type": "code",
   "execution_count": null,
   "id": "ce3c09c4",
   "metadata": {
    "papermill": {
     "duration": 0.21139,
     "end_time": "2024-06-07T10:15:31.902585",
     "exception": false,
     "start_time": "2024-06-07T10:15:31.691195",
     "status": "completed"
    },
    "tags": []
   },
   "outputs": [],
   "source": []
  }
 ],
 "metadata": {
  "kaggle": {
   "accelerator": "nvidiaTeslaT4",
   "dataSources": [
    {
     "datasetId": 5098388,
     "sourceId": 8535635,
     "sourceType": "datasetVersion"
    },
    {
     "datasetId": 5148434,
     "sourceId": 8604311,
     "sourceType": "datasetVersion"
    },
    {
     "datasetId": 5162211,
     "sourceId": 8623121,
     "sourceType": "datasetVersion"
    },
    {
     "datasetId": 5150981,
     "sourceId": 8629788,
     "sourceType": "datasetVersion"
    }
   ],
   "dockerImageVersionId": 30699,
   "isGpuEnabled": true,
   "isInternetEnabled": true,
   "language": "python",
   "sourceType": "notebook"
  },
  "kernelspec": {
   "display_name": "Python 3",
   "language": "python",
   "name": "python3"
  },
  "language_info": {
   "codemirror_mode": {
    "name": "ipython",
    "version": 3
   },
   "file_extension": ".py",
   "mimetype": "text/x-python",
   "name": "python",
   "nbconvert_exporter": "python",
   "pygments_lexer": "ipython3",
   "version": "3.10.13"
  },
  "papermill": {
   "default_parameters": {},
   "duration": 7368.689396,
   "end_time": "2024-06-07T10:15:35.112032",
   "environment_variables": {},
   "exception": null,
   "input_path": "__notebook__.ipynb",
   "output_path": "__notebook__.ipynb",
   "parameters": {},
   "start_time": "2024-06-07T08:12:46.422636",
   "version": "2.5.0"
  }
 },
 "nbformat": 4,
 "nbformat_minor": 5
}
